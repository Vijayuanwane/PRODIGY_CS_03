{
 "cells": [
  {
   "cell_type": "code",
   "execution_count": null,
   "id": "bcb99fd7-1e24-4c46-99a3-0773c8e36ac1",
   "metadata": {},
   "outputs": [],
   "source": [
    "#Task3\n",
    "import tkinter as tk\n",
    "from tkinter import messagebox\n",
    "import re\n",
    "\n",
    "def check_password_strength():\n",
    "    password = entry.get()\n",
    "    \n",
    "    if len(password) < 8:\n",
    "        strength = \"Weak\"\n",
    "    elif re.search('[0-9]', password) is None:\n",
    "        strength = \"Weak\"\n",
    "    elif re.search('[A-Z]', password) is None:\n",
    "        strength = \"Medium\"\n",
    "    elif re.search('[a-z]', password) is None:\n",
    "        strength = \"Medium\"\n",
    "    elif re.search('[!@#$%^&*(),.?\":{}|<>]', password) is None:\n",
    "        strength = \"Strong\"\n",
    "    else:\n",
    "        strength = \"Very Strong\"\n",
    "    \n",
    "    messagebox.showinfo(\"Password Strength\", f\"Your password strength is: {strength}\")\n",
    "\n",
    "# Setting up the main window\n",
    "root = tk.Tk()\n",
    "root.title(\"Password Strength Checker\")\n",
    "root.geometry(\"300x200\")\n",
    "\n",
    "# Adding a label\n",
    "label = tk.Label(root, text=\"Enter your password:\")\n",
    "label.pack(pady=10)\n",
    "\n",
    "# Adding an entry field\n",
    "entry = tk.Entry(root, show=\"*\", width=30)\n",
    "entry.pack(pady=10)\n",
    "\n",
    "# Adding a button\n",
    "button = tk.Button(root, text=\"Check Strength\", command=check_password_strength)\n",
    "button.pack(pady=10)\n",
    "\n",
    "# Running the GUI application\n",
    "root.mainloop()"
   ]
  }
 ],
 "metadata": {
  "kernelspec": {
   "display_name": "Python 3 (ipykernel)",
   "language": "python",
   "name": "python3"
  },
  "language_info": {
   "codemirror_mode": {
    "name": "ipython",
    "version": 3
   },
   "file_extension": ".py",
   "mimetype": "text/x-python",
   "name": "python",
   "nbconvert_exporter": "python",
   "pygments_lexer": "ipython3",
   "version": "3.11.7"
  }
 },
 "nbformat": 4,
 "nbformat_minor": 5
}
